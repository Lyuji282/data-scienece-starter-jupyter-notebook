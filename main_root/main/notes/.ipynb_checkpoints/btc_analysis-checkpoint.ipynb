{
 "cells": [
  {
   "cell_type": "markdown",
   "metadata": {},
   "source": [
    "## install packages"
   ]
  },
  {
   "cell_type": "code",
   "execution_count": null,
   "metadata": {},
   "outputs": [],
   "source": []
  },
  {
   "cell_type": "markdown",
   "metadata": {},
   "source": [
    "## import packages"
   ]
  },
  {
   "cell_type": "code",
   "execution_count": 1,
   "metadata": {
    "scrolled": true
   },
   "outputs": [
    {
     "name": "stderr",
     "output_type": "stream",
     "text": [
      "\n",
      "Attaching package: ‘dplyr’\n",
      "\n",
      "The following objects are masked from ‘package:plyr’:\n",
      "\n",
      "    arrange, count, desc, failwith, id, mutate, rename, summarise,\n",
      "    summarize\n",
      "\n",
      "The following objects are masked from ‘package:stats’:\n",
      "\n",
      "    filter, lag\n",
      "\n",
      "The following objects are masked from ‘package:base’:\n",
      "\n",
      "    intersect, setdiff, setequal, union\n",
      "\n"
     ]
    }
   ],
   "source": [
    "library(\"plyr\")\n",
    "library(\"dplyr\")\n",
    "library(\"ggplot2\")"
   ]
  },
  {
   "cell_type": "markdown",
   "metadata": {},
   "source": [
    "## set data"
   ]
  },
  {
   "cell_type": "code",
   "execution_count": 13,
   "metadata": {},
   "outputs": [],
   "source": [
    "bitcoin <- read.csv(\"../data/bitstampUSD_1-min_data_2012-01-01_to_2018-11-11.csv\",header=T)"
   ]
  },
  {
   "cell_type": "markdown",
   "metadata": {},
   "source": [
    "## EDA"
   ]
  },
  {
   "cell_type": "code",
   "execution_count": 15,
   "metadata": {},
   "outputs": [
    {
     "name": "stdout",
     "output_type": "stream",
     "text": [
      "Observations: 3,603,136\n",
      "Variables: 8\n",
      "$ Timestamp         <int> 1325317920, 1325317980, 1325318040, 1325318100, 1...\n",
      "$ Open              <dbl> 4.39, NaN, NaN, NaN, NaN, NaN, NaN, NaN, NaN, NaN...\n",
      "$ High              <dbl> 4.39, NaN, NaN, NaN, NaN, NaN, NaN, NaN, NaN, NaN...\n",
      "$ Low               <dbl> 4.39, NaN, NaN, NaN, NaN, NaN, NaN, NaN, NaN, NaN...\n",
      "$ Close             <dbl> 4.39, NaN, NaN, NaN, NaN, NaN, NaN, NaN, NaN, NaN...\n",
      "$ Volume_.BTC.      <dbl> 0.4555809, NaN, NaN, NaN, NaN, NaN, NaN, NaN, NaN...\n",
      "$ Volume_.Currency. <dbl> 2, NaN, NaN, NaN, NaN, NaN, NaN, NaN, NaN, NaN, N...\n",
      "$ Weighted_Price    <dbl> 4.39, NaN, NaN, NaN, NaN, NaN, NaN, NaN, NaN, NaN...\n"
     ]
    }
   ],
   "source": [
    "glimpse(bitcoin)"
   ]
  },
  {
   "cell_type": "code",
   "execution_count": 18,
   "metadata": {},
   "outputs": [
    {
     "data": {
      "text/html": [
       "522844"
      ],
      "text/latex": [
       "522844"
      ],
      "text/markdown": [
       "522844"
      ],
      "text/plain": [
       "[1] 522844"
      ]
     },
     "metadata": {},
     "output_type": "display_data"
    },
    {
     "data": {
      "text/html": [
       "519610"
      ],
      "text/latex": [
       "519610"
      ],
      "text/markdown": [
       "519610"
      ],
      "text/plain": [
       "[1] 519610"
      ]
     },
     "metadata": {},
     "output_type": "display_data"
    }
   ],
   "source": [
    "n_distinct(bitcoin$Open)\n",
    "n_distinct(bitcoin$Close)"
   ]
  },
  {
   "cell_type": "code",
   "execution_count": 20,
   "metadata": {},
   "outputs": [
    {
     "data": {
      "text/html": [
       "<table>\n",
       "<thead><tr><th scope=col>Open</th><th scope=col>n</th></tr></thead>\n",
       "<tbody>\n",
       "\t<tr><td>3.80</td><td> 2  </td></tr>\n",
       "\t<tr><td>4.14</td><td> 2  </td></tr>\n",
       "\t<tr><td>4.15</td><td> 1  </td></tr>\n",
       "\t<tr><td>4.17</td><td> 1  </td></tr>\n",
       "\t<tr><td>4.23</td><td> 1  </td></tr>\n",
       "\t<tr><td>4.24</td><td> 1  </td></tr>\n",
       "\t<tr><td>4.25</td><td> 1  </td></tr>\n",
       "\t<tr><td>4.27</td><td> 1  </td></tr>\n",
       "\t<tr><td>4.30</td><td> 6  </td></tr>\n",
       "\t<tr><td>4.33</td><td> 1  </td></tr>\n",
       "\t<tr><td>4.35</td><td> 4  </td></tr>\n",
       "\t<tr><td>4.38</td><td> 3  </td></tr>\n",
       "\t<tr><td>4.39</td><td> 4  </td></tr>\n",
       "\t<tr><td>4.40</td><td> 5  </td></tr>\n",
       "\t<tr><td>4.41</td><td> 1  </td></tr>\n",
       "\t<tr><td>4.44</td><td> 4  </td></tr>\n",
       "\t<tr><td>4.45</td><td>12  </td></tr>\n",
       "\t<tr><td>4.47</td><td> 4  </td></tr>\n",
       "\t<tr><td>4.48</td><td> 2  </td></tr>\n",
       "\t<tr><td>4.49</td><td> 5  </td></tr>\n",
       "\t<tr><td>4.50</td><td> 9  </td></tr>\n",
       "\t<tr><td>4.51</td><td> 6  </td></tr>\n",
       "\t<tr><td>4.52</td><td> 7  </td></tr>\n",
       "\t<tr><td>4.53</td><td> 7  </td></tr>\n",
       "\t<tr><td>4.54</td><td>11  </td></tr>\n",
       "\t<tr><td>4.55</td><td> 4  </td></tr>\n",
       "\t<tr><td>4.56</td><td> 1  </td></tr>\n",
       "\t<tr><td>4.57</td><td> 5  </td></tr>\n",
       "\t<tr><td>4.58</td><td> 3  </td></tr>\n",
       "\t<tr><td>4.59</td><td>21  </td></tr>\n",
       "\t<tr><td>⋮</td><td>⋮</td></tr>\n",
       "\t<tr><td>19612.17</td><td>      1 </td></tr>\n",
       "\t<tr><td>19614.35</td><td>      1 </td></tr>\n",
       "\t<tr><td>19615.00</td><td>      1 </td></tr>\n",
       "\t<tr><td>19616.67</td><td>      1 </td></tr>\n",
       "\t<tr><td>19616.69</td><td>      1 </td></tr>\n",
       "\t<tr><td>19619.66</td><td>      1 </td></tr>\n",
       "\t<tr><td>19621.47</td><td>      1 </td></tr>\n",
       "\t<tr><td>19622.29</td><td>      1 </td></tr>\n",
       "\t<tr><td>19622.30</td><td>      1 </td></tr>\n",
       "\t<tr><td>19625.55</td><td>      1 </td></tr>\n",
       "\t<tr><td>19626.30</td><td>      1 </td></tr>\n",
       "\t<tr><td>19629.99</td><td>      1 </td></tr>\n",
       "\t<tr><td>19630.01</td><td>      1 </td></tr>\n",
       "\t<tr><td>19630.79</td><td>      1 </td></tr>\n",
       "\t<tr><td>19631.01</td><td>      1 </td></tr>\n",
       "\t<tr><td>19639.43</td><td>      1 </td></tr>\n",
       "\t<tr><td>19640.00</td><td>      1 </td></tr>\n",
       "\t<tr><td>19642.33</td><td>      1 </td></tr>\n",
       "\t<tr><td>19644.00</td><td>      1 </td></tr>\n",
       "\t<tr><td>19644.39</td><td>      1 </td></tr>\n",
       "\t<tr><td>19645.25</td><td>      2 </td></tr>\n",
       "\t<tr><td>19649.98</td><td>      1 </td></tr>\n",
       "\t<tr><td>19650.00</td><td>      1 </td></tr>\n",
       "\t<tr><td>19650.01</td><td>      1 </td></tr>\n",
       "\t<tr><td>19651.02</td><td>      1 </td></tr>\n",
       "\t<tr><td>19656.89</td><td>      1 </td></tr>\n",
       "\t<tr><td>19663.93</td><td>      1 </td></tr>\n",
       "\t<tr><td>19663.99</td><td>      1 </td></tr>\n",
       "\t<tr><td>19665.76</td><td>      1 </td></tr>\n",
       "\t<tr><td>     NaN</td><td>1214307 </td></tr>\n",
       "</tbody>\n",
       "</table>\n"
      ],
      "text/latex": [
       "\\begin{tabular}{r|ll}\n",
       " Open & n\\\\\n",
       "\\hline\n",
       "\t 3.80 &  2  \\\\\n",
       "\t 4.14 &  2  \\\\\n",
       "\t 4.15 &  1  \\\\\n",
       "\t 4.17 &  1  \\\\\n",
       "\t 4.23 &  1  \\\\\n",
       "\t 4.24 &  1  \\\\\n",
       "\t 4.25 &  1  \\\\\n",
       "\t 4.27 &  1  \\\\\n",
       "\t 4.30 &  6  \\\\\n",
       "\t 4.33 &  1  \\\\\n",
       "\t 4.35 &  4  \\\\\n",
       "\t 4.38 &  3  \\\\\n",
       "\t 4.39 &  4  \\\\\n",
       "\t 4.40 &  5  \\\\\n",
       "\t 4.41 &  1  \\\\\n",
       "\t 4.44 &  4  \\\\\n",
       "\t 4.45 & 12  \\\\\n",
       "\t 4.47 &  4  \\\\\n",
       "\t 4.48 &  2  \\\\\n",
       "\t 4.49 &  5  \\\\\n",
       "\t 4.50 &  9  \\\\\n",
       "\t 4.51 &  6  \\\\\n",
       "\t 4.52 &  7  \\\\\n",
       "\t 4.53 &  7  \\\\\n",
       "\t 4.54 & 11  \\\\\n",
       "\t 4.55 &  4  \\\\\n",
       "\t 4.56 &  1  \\\\\n",
       "\t 4.57 &  5  \\\\\n",
       "\t 4.58 &  3  \\\\\n",
       "\t 4.59 & 21  \\\\\n",
       "\t ⋮ & ⋮\\\\\n",
       "\t 19612.17 &       1 \\\\\n",
       "\t 19614.35 &       1 \\\\\n",
       "\t 19615.00 &       1 \\\\\n",
       "\t 19616.67 &       1 \\\\\n",
       "\t 19616.69 &       1 \\\\\n",
       "\t 19619.66 &       1 \\\\\n",
       "\t 19621.47 &       1 \\\\\n",
       "\t 19622.29 &       1 \\\\\n",
       "\t 19622.30 &       1 \\\\\n",
       "\t 19625.55 &       1 \\\\\n",
       "\t 19626.30 &       1 \\\\\n",
       "\t 19629.99 &       1 \\\\\n",
       "\t 19630.01 &       1 \\\\\n",
       "\t 19630.79 &       1 \\\\\n",
       "\t 19631.01 &       1 \\\\\n",
       "\t 19639.43 &       1 \\\\\n",
       "\t 19640.00 &       1 \\\\\n",
       "\t 19642.33 &       1 \\\\\n",
       "\t 19644.00 &       1 \\\\\n",
       "\t 19644.39 &       1 \\\\\n",
       "\t 19645.25 &       2 \\\\\n",
       "\t 19649.98 &       1 \\\\\n",
       "\t 19650.00 &       1 \\\\\n",
       "\t 19650.01 &       1 \\\\\n",
       "\t 19651.02 &       1 \\\\\n",
       "\t 19656.89 &       1 \\\\\n",
       "\t 19663.93 &       1 \\\\\n",
       "\t 19663.99 &       1 \\\\\n",
       "\t 19665.76 &       1 \\\\\n",
       "\t      NaN & 1214307 \\\\\n",
       "\\end{tabular}\n"
      ],
      "text/markdown": [
       "\n",
       "Open | n | \n",
       "|---|---|---|---|---|---|---|---|---|---|---|---|---|---|---|---|---|---|---|---|---|---|---|---|---|---|---|---|---|---|---|---|---|---|---|---|---|---|---|---|---|---|---|---|---|---|---|---|---|---|---|---|---|---|---|---|---|---|---|---|---|\n",
       "| 3.80 |  2   | \n",
       "| 4.14 |  2   | \n",
       "| 4.15 |  1   | \n",
       "| 4.17 |  1   | \n",
       "| 4.23 |  1   | \n",
       "| 4.24 |  1   | \n",
       "| 4.25 |  1   | \n",
       "| 4.27 |  1   | \n",
       "| 4.30 |  6   | \n",
       "| 4.33 |  1   | \n",
       "| 4.35 |  4   | \n",
       "| 4.38 |  3   | \n",
       "| 4.39 |  4   | \n",
       "| 4.40 |  5   | \n",
       "| 4.41 |  1   | \n",
       "| 4.44 |  4   | \n",
       "| 4.45 | 12   | \n",
       "| 4.47 |  4   | \n",
       "| 4.48 |  2   | \n",
       "| 4.49 |  5   | \n",
       "| 4.50 |  9   | \n",
       "| 4.51 |  6   | \n",
       "| 4.52 |  7   | \n",
       "| 4.53 |  7   | \n",
       "| 4.54 | 11   | \n",
       "| 4.55 |  4   | \n",
       "| 4.56 |  1   | \n",
       "| 4.57 |  5   | \n",
       "| 4.58 |  3   | \n",
       "| 4.59 | 21   | \n",
       "| ⋮ | ⋮ | \n",
       "| 19612.17 |       1  | \n",
       "| 19614.35 |       1  | \n",
       "| 19615.00 |       1  | \n",
       "| 19616.67 |       1  | \n",
       "| 19616.69 |       1  | \n",
       "| 19619.66 |       1  | \n",
       "| 19621.47 |       1  | \n",
       "| 19622.29 |       1  | \n",
       "| 19622.30 |       1  | \n",
       "| 19625.55 |       1  | \n",
       "| 19626.30 |       1  | \n",
       "| 19629.99 |       1  | \n",
       "| 19630.01 |       1  | \n",
       "| 19630.79 |       1  | \n",
       "| 19631.01 |       1  | \n",
       "| 19639.43 |       1  | \n",
       "| 19640.00 |       1  | \n",
       "| 19642.33 |       1  | \n",
       "| 19644.00 |       1  | \n",
       "| 19644.39 |       1  | \n",
       "| 19645.25 |       2  | \n",
       "| 19649.98 |       1  | \n",
       "| 19650.00 |       1  | \n",
       "| 19650.01 |       1  | \n",
       "| 19651.02 |       1  | \n",
       "| 19656.89 |       1  | \n",
       "| 19663.93 |       1  | \n",
       "| 19663.99 |       1  | \n",
       "| 19665.76 |       1  | \n",
       "|      NaN | 1214307  | \n",
       "\n",
       "\n"
      ],
      "text/plain": [
       "       Open     n      \n",
       "1      3.80      2     \n",
       "2      4.14      2     \n",
       "3      4.15      1     \n",
       "4      4.17      1     \n",
       "5      4.23      1     \n",
       "6      4.24      1     \n",
       "7      4.25      1     \n",
       "8      4.27      1     \n",
       "9      4.30      6     \n",
       "10     4.33      1     \n",
       "11     4.35      4     \n",
       "12     4.38      3     \n",
       "13     4.39      4     \n",
       "14     4.40      5     \n",
       "15     4.41      1     \n",
       "16     4.44      4     \n",
       "17     4.45     12     \n",
       "18     4.47      4     \n",
       "19     4.48      2     \n",
       "20     4.49      5     \n",
       "21     4.50      9     \n",
       "22     4.51      6     \n",
       "23     4.52      7     \n",
       "24     4.53      7     \n",
       "25     4.54     11     \n",
       "26     4.55      4     \n",
       "27     4.56      1     \n",
       "28     4.57      5     \n",
       "29     4.58      3     \n",
       "30     4.59     21     \n",
       "⋮      ⋮        ⋮      \n",
       "522815 19612.17       1\n",
       "522816 19614.35       1\n",
       "522817 19615.00       1\n",
       "522818 19616.67       1\n",
       "522819 19616.69       1\n",
       "522820 19619.66       1\n",
       "522821 19621.47       1\n",
       "522822 19622.29       1\n",
       "522823 19622.30       1\n",
       "522824 19625.55       1\n",
       "522825 19626.30       1\n",
       "522826 19629.99       1\n",
       "522827 19630.01       1\n",
       "522828 19630.79       1\n",
       "522829 19631.01       1\n",
       "522830 19639.43       1\n",
       "522831 19640.00       1\n",
       "522832 19642.33       1\n",
       "522833 19644.00       1\n",
       "522834 19644.39       1\n",
       "522835 19645.25       2\n",
       "522836 19649.98       1\n",
       "522837 19650.00       1\n",
       "522838 19650.01       1\n",
       "522839 19651.02       1\n",
       "522840 19656.89       1\n",
       "522841 19663.93       1\n",
       "522842 19663.99       1\n",
       "522843 19665.76       1\n",
       "522844      NaN 1214307"
      ]
     },
     "metadata": {},
     "output_type": "display_data"
    }
   ],
   "source": [
    "bitcoin %>% count(Open)"
   ]
  },
  {
   "cell_type": "code",
   "execution_count": null,
   "metadata": {},
   "outputs": [],
   "source": []
  },
  {
   "cell_type": "code",
   "execution_count": null,
   "metadata": {},
   "outputs": [],
   "source": []
  },
  {
   "cell_type": "code",
   "execution_count": null,
   "metadata": {},
   "outputs": [],
   "source": []
  },
  {
   "cell_type": "code",
   "execution_count": 14,
   "metadata": {},
   "outputs": [
    {
     "ename": "ERROR",
     "evalue": "Error in `[.data.frame`(source, source$Timestamp >= startPointer & source$Timestamp < : undefined columns selected\n",
     "output_type": "error",
     "traceback": [
      "Error in `[.data.frame`(source, source$Timestamp >= startPointer & source$Timestamp < : undefined columns selected\nTraceback:\n",
      "1. sum_volume(bitcoin, 1325376000, 6)",
      "2. source[source$Timestamp >= startPointer & source$Timestamp < \n .     end]   # at line 6 of file <text>",
      "3. `[.data.frame`(source, source$Timestamp >= startPointer & source$Timestamp < \n .     end)   # at line 6 of file <text>",
      "4. stop(\"undefined columns selected\")"
     ]
    }
   ],
   "source": [
    "sum_volume <- function(source,start,years){\n",
    "    startPointer <- start\n",
    "    results <- c()\n",
    "    for(year in 1:years){\n",
    "        end <- startPointer+31536000\n",
    "        bit <- source[source$Timestamp>=startPointer & source$Timestamp<end]\n",
    "        bit <- subset(bit,!is.na(Volume_.BTC.))\n",
    "        results[year]<-summarise(bit,sum(Volume_.BTC.))\n",
    "        startPointer <- end\n",
    "    }\n",
    "    print(results)\n",
    "}\n",
    "\n",
    "sum_volume(bitcoin,1325376000,6)"
   ]
  },
  {
   "cell_type": "code",
   "execution_count": null,
   "metadata": {},
   "outputs": [],
   "source": []
  },
  {
   "cell_type": "code",
   "execution_count": null,
   "metadata": {},
   "outputs": [],
   "source": []
  },
  {
   "cell_type": "markdown",
   "metadata": {},
   "source": [
    "## snippets"
   ]
  },
  {
   "cell_type": "code",
   "execution_count": null,
   "metadata": {},
   "outputs": [],
   "source": []
  },
  {
   "cell_type": "code",
   "execution_count": null,
   "metadata": {},
   "outputs": [],
   "source": []
  },
  {
   "cell_type": "code",
   "execution_count": null,
   "metadata": {},
   "outputs": [],
   "source": []
  },
  {
   "cell_type": "code",
   "execution_count": null,
   "metadata": {},
   "outputs": [],
   "source": []
  },
  {
   "cell_type": "code",
   "execution_count": null,
   "metadata": {},
   "outputs": [],
   "source": []
  },
  {
   "cell_type": "code",
   "execution_count": null,
   "metadata": {},
   "outputs": [],
   "source": []
  },
  {
   "cell_type": "code",
   "execution_count": null,
   "metadata": {},
   "outputs": [],
   "source": []
  },
  {
   "cell_type": "code",
   "execution_count": null,
   "metadata": {},
   "outputs": [],
   "source": []
  },
  {
   "cell_type": "code",
   "execution_count": null,
   "metadata": {},
   "outputs": [],
   "source": []
  },
  {
   "cell_type": "code",
   "execution_count": null,
   "metadata": {},
   "outputs": [],
   "source": []
  },
  {
   "cell_type": "code",
   "execution_count": null,
   "metadata": {},
   "outputs": [],
   "source": []
  },
  {
   "cell_type": "code",
   "execution_count": null,
   "metadata": {},
   "outputs": [],
   "source": []
  },
  {
   "cell_type": "code",
   "execution_count": null,
   "metadata": {},
   "outputs": [],
   "source": []
  },
  {
   "cell_type": "code",
   "execution_count": null,
   "metadata": {},
   "outputs": [],
   "source": []
  },
  {
   "cell_type": "code",
   "execution_count": null,
   "metadata": {},
   "outputs": [],
   "source": []
  }
 ],
 "metadata": {
  "kernelspec": {
   "display_name": "R",
   "language": "R",
   "name": "ir"
  },
  "language_info": {
   "codemirror_mode": "r",
   "file_extension": ".r",
   "mimetype": "text/x-r-source",
   "name": "R",
   "pygments_lexer": "r",
   "version": "3.4.1"
  }
 },
 "nbformat": 4,
 "nbformat_minor": 2
}
